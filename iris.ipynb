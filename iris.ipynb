{
  "nbformat": 4,
  "nbformat_minor": 0,
  "metadata": {
    "colab": {
      "name": "iris.ipynb",
      "provenance": []
    },
    "kernelspec": {
      "name": "python3",
      "display_name": "Python 3"
    }
  },
  "cells": [
    {
      "cell_type": "code",
      "metadata": {
        "id": "sNb_8Nze4IIJ",
        "colab_type": "code",
        "colab": {
          "base_uri": "https://localhost:8080/",
          "height": 99
        },
        "outputId": "e92fb116-9724-4ed5-b71a-208bbf31812d"
      },
      "source": [
        "import pandas as pd\n",
        "import numpy as np\n",
        "import tensorflow as tf\n",
        "from keras.utils import np_utils"
      ],
      "execution_count": 1,
      "outputs": [
        {
          "output_type": "display_data",
          "data": {
            "text/html": [
              "<p style=\"color: red;\">\n",
              "The default version of TensorFlow in Colab will soon switch to TensorFlow 2.x.<br>\n",
              "We recommend you <a href=\"https://www.tensorflow.org/guide/migrate\" target=\"_blank\">upgrade</a> now \n",
              "or ensure your notebook will continue to use TensorFlow 1.x via the <code>%tensorflow_version 1.x</code> magic:\n",
              "<a href=\"https://colab.research.google.com/notebooks/tensorflow_version.ipynb\" target=\"_blank\">more info</a>.</p>\n"
            ],
            "text/plain": [
              "<IPython.core.display.HTML object>"
            ]
          },
          "metadata": {
            "tags": []
          }
        },
        {
          "output_type": "stream",
          "text": [
            "Using TensorFlow backend.\n"
          ],
          "name": "stderr"
        }
      ]
    },
    {
      "cell_type": "code",
      "metadata": {
        "id": "cqGnJvRfHFGJ",
        "colab_type": "code",
        "colab": {}
      },
      "source": [
        "data = pd.read_csv(\"/content/Iris.csv\")"
      ],
      "execution_count": 0,
      "outputs": []
    },
    {
      "cell_type": "code",
      "metadata": {
        "id": "6TsghTNS3jxI",
        "colab_type": "code",
        "colab": {}
      },
      "source": [
        "data=data.iloc[:,:]\n",
        "x=data.iloc[:,:-1]\n",
        "y=data.iloc[:,-1]"
      ],
      "execution_count": 0,
      "outputs": []
    },
    {
      "cell_type": "code",
      "metadata": {
        "id": "ZTevosAzvaK7",
        "colab_type": "code",
        "colab": {
          "base_uri": "https://localhost:8080/",
          "height": 297
        },
        "outputId": "a40ab1ec-9829-4926-87bc-c66dc0cdb271"
      },
      "source": [
        "# Encoding species names to integers\n",
        "for i in range(len(y)):\n",
        "  if y[i]=='Iris-versicolor':\n",
        "    y[i]=1\n",
        "  elif y[i]=='Iris-setosa':\n",
        "    y[i]=0\n",
        "  else:\n",
        "    y[i]=2"
      ],
      "execution_count": 4,
      "outputs": [
        {
          "output_type": "stream",
          "text": [
            "/usr/local/lib/python3.6/dist-packages/ipykernel_launcher.py:5: SettingWithCopyWarning: \n",
            "A value is trying to be set on a copy of a slice from a DataFrame\n",
            "\n",
            "See the caveats in the documentation: http://pandas.pydata.org/pandas-docs/stable/user_guide/indexing.html#returning-a-view-versus-a-copy\n",
            "  \"\"\"\n",
            "/usr/local/lib/python3.6/dist-packages/ipykernel_launcher.py:3: SettingWithCopyWarning: \n",
            "A value is trying to be set on a copy of a slice from a DataFrame\n",
            "\n",
            "See the caveats in the documentation: http://pandas.pydata.org/pandas-docs/stable/user_guide/indexing.html#returning-a-view-versus-a-copy\n",
            "  This is separate from the ipykernel package so we can avoid doing imports until\n",
            "/usr/local/lib/python3.6/dist-packages/ipykernel_launcher.py:7: SettingWithCopyWarning: \n",
            "A value is trying to be set on a copy of a slice from a DataFrame\n",
            "\n",
            "See the caveats in the documentation: http://pandas.pydata.org/pandas-docs/stable/user_guide/indexing.html#returning-a-view-versus-a-copy\n",
            "  import sys\n"
          ],
          "name": "stderr"
        }
      ]
    },
    {
      "cell_type": "code",
      "metadata": {
        "id": "ZjCgAGc63nHc",
        "colab_type": "code",
        "colab": {}
      },
      "source": [
        "x=np.array(x)"
      ],
      "execution_count": 0,
      "outputs": []
    },
    {
      "cell_type": "code",
      "metadata": {
        "id": "lhvEIj_Z36B1",
        "colab_type": "code",
        "colab": {}
      },
      "source": [
        "x = x.reshape(x.shape[0], x.shape[1], 1, 1)"
      ],
      "execution_count": 0,
      "outputs": []
    },
    {
      "cell_type": "code",
      "metadata": {
        "id": "SRSPaZML2_Az",
        "colab_type": "code",
        "colab": {}
      },
      "source": [
        "from sklearn.model_selection import train_test_split\n",
        "x_train,x_test,y_train,y_test=train_test_split(x,y,test_size=0.2)"
      ],
      "execution_count": 0,
      "outputs": []
    },
    {
      "cell_type": "code",
      "metadata": {
        "id": "4_IDO5PCpeZJ",
        "colab_type": "code",
        "colab": {}
      },
      "source": [
        "y_train = np_utils.to_categorical(y_train, 3)\n",
        "y_test = np_utils.to_categorical(y_test, 3)"
      ],
      "execution_count": 0,
      "outputs": []
    },
    {
      "cell_type": "code",
      "metadata": {
        "id": "4jdTkrHP29kU",
        "colab_type": "code",
        "outputId": "c3303984-080d-4135-f180-94094b88fbc4",
        "colab": {
          "base_uri": "https://localhost:8080/",
          "height": 416
        }
      },
      "source": [
        "from keras.models import Sequential\n",
        "from keras.layers import Dense, Conv2D, Dropout, Flatten, MaxPooling2D\n",
        "model = Sequential()\n",
        "model.add(Conv2D(28, kernel_size=(1,1)))\n",
        "model.add(MaxPooling2D(pool_size=(1, 1)))\n",
        "model.add(Flatten()) \n",
        "model.add(Dense(128, activation=tf.nn.relu))\n",
        "model.add(Dropout(0.2))\n",
        "model.add(Dense(3,activation=tf.nn.softmax))\n",
        "model.compile(optimizer='adam', \n",
        "              loss='categorical_crossentropy', \n",
        "              metrics=['accuracy'])\n",
        "model.fit(x=x_train,y=y_train, epochs=10)\n",
        "scores = model.evaluate(x_test, y_test)\n",
        "print('Test loss:', scores[0])\n",
        "print('Test accuracy:', scores[1]*100,'%')"
      ],
      "execution_count": 10,
      "outputs": [
        {
          "output_type": "stream",
          "text": [
            "Epoch 1/10\n",
            "120/120 [==============================] - 0s 3ms/step - loss: 5.4312 - acc: 0.3083\n",
            "Epoch 2/10\n",
            "120/120 [==============================] - 0s 101us/step - loss: 3.6079 - acc: 0.3167\n",
            "Epoch 3/10\n",
            "120/120 [==============================] - 0s 92us/step - loss: 3.2400 - acc: 0.3500\n",
            "Epoch 4/10\n",
            "120/120 [==============================] - 0s 86us/step - loss: 2.8344 - acc: 0.4500\n",
            "Epoch 5/10\n",
            "120/120 [==============================] - 0s 82us/step - loss: 2.7514 - acc: 0.4250\n",
            "Epoch 6/10\n",
            "120/120 [==============================] - 0s 76us/step - loss: 1.9595 - acc: 0.5750\n",
            "Epoch 7/10\n",
            "120/120 [==============================] - 0s 78us/step - loss: 1.7912 - acc: 0.5583\n",
            "Epoch 8/10\n",
            "120/120 [==============================] - 0s 90us/step - loss: 2.1124 - acc: 0.5500\n",
            "Epoch 9/10\n",
            "120/120 [==============================] - 0s 76us/step - loss: 1.9269 - acc: 0.6083\n",
            "Epoch 10/10\n",
            "120/120 [==============================] - 0s 94us/step - loss: 1.1748 - acc: 0.6500\n",
            "30/30 [==============================] - 0s 2ms/step\n",
            "Test loss: 0.3598176836967468\n",
            "Test accuracy: 83.33333134651184 %\n"
          ],
          "name": "stdout"
        }
      ]
    },
    {
      "cell_type": "code",
      "metadata": {
        "id": "S8f6a6_5uj9B",
        "colab_type": "code",
        "colab": {}
      },
      "source": [
        ""
      ],
      "execution_count": 0,
      "outputs": []
    }
  ]
}